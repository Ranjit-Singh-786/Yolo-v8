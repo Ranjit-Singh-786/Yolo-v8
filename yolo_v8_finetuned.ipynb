{
 "cells": [
  {
   "cell_type": "code",
   "execution_count": null,
   "metadata": {},
   "outputs": [],
   "source": [
    "yolo v8 kaggle blog : https://www.kaggle.com/datasets/chenjiexu/yolov8\n",
    "coco dataset in yolo format : https://ultralytics.com/assets/coco128.zip\n",
    "yolo v8 github : https://github.com/ultralytics/ultralytics"
   ]
  }
 ],
 "metadata": {
  "language_info": {
   "name": "python"
  }
 },
 "nbformat": 4,
 "nbformat_minor": 2
}
